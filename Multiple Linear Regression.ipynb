{
 "cells": [
  {
   "cell_type": "code",
   "execution_count": 17,
   "id": "be838a05-ee34-4fe6-8fe6-2f38eb7b2ae6",
   "metadata": {},
   "outputs": [],
   "source": [
    "import numpy as np"
   ]
  },
  {
   "cell_type": "code",
   "execution_count": 97,
   "id": "9bae3244-57c8-44d4-8d84-a8aa15365412",
   "metadata": {},
   "outputs": [],
   "source": [
    "x_train= np.array([[2104,5,1,45],\n",
    " [1416,3,2,40],\n",
    " [852,2,1,35]])\n",
    "\n",
    "y_train = np.array([460 ,232,178])"
   ]
  },
  {
   "cell_type": "code",
   "execution_count": 99,
   "id": "e4329c4f-2a5f-4f43-b4e1-d60897bd3286",
   "metadata": {},
   "outputs": [],
   "source": [
    "b_init = 785.1811367994083\n",
    "w_init = np.array([ 0.39133535, 18.75376741, -53.36032453, -26.42131618])"
   ]
  },
  {
   "cell_type": "code",
   "execution_count": 101,
   "id": "bced9e58-d9b8-41a4-a069-630c1885e075",
   "metadata": {},
   "outputs": [
    {
     "name": "stdout",
     "output_type": "stream",
     "text": [
      "One Prediction :  459.9999976194083\n",
      "All Prediction : [459.99999762 231.99999837 177.99999899]\n"
     ]
    },
    {
     "data": {
      "text/plain": [
       "(array([-2.72623577e-03, -6.27197263e-06, -2.21745578e-06, -6.92403391e-05]),\n",
       " -1.6739251501955248e-06)"
      ]
     },
     "execution_count": 101,
     "metadata": {},
     "output_type": "execute_result"
    }
   ],
   "source": [
    "# Means Squared root error = 1/2m * sum ((f_wb - y)^2 )\n",
    "# Update w = w- alpha * (1/m * (sum(f_wb-y))*x)\n",
    "\n",
    "def predict_one(x,w,b):\n",
    "    return np.sum(w*x)+b\n",
    "    \n",
    "def predict(x,w,b):\n",
    "    return np.dot(x, w) + b\n",
    "\n",
    "# def compute_gradient(x,y,w,b):\n",
    "#     dj_dw = ((1/m) * np.sum((y- predict(x,w,b))))\n",
    "#     print(\"Error : \",np.sum((y- predict(x,w,b))))\n",
    "#     print(\"Compute Gradient\")\n",
    "    \n",
    "print(\"One Prediction : \",predict_one(x_train[0],w_init,b_init))\n",
    "print(\"All Prediction :\",predict(x_train,w_init,b_init))\n",
    "compute_gradient(x_train,y_train,w_init,b_init)"
   ]
  },
  {
   "cell_type": "code",
   "execution_count": 103,
   "id": "bd6d8e76-35cd-479b-9d59-b0719ad4b8f5",
   "metadata": {},
   "outputs": [
    {
     "name": "stdout",
     "output_type": "stream",
     "text": [
      "[-2.72623577e-03 -6.27197263e-06 -2.21745578e-06 -6.92403391e-05] -1.6739251501955248e-06\n"
     ]
    }
   ],
   "source": [
    "x_train = np.array([[2104, 5, 1, 45],\n",
    "                    [1416, 3, 2, 40],\n",
    "                    [852, 2, 1, 35]])\n",
    "\n",
    "y_train = np.array([460, 232, 178])\n",
    "\n",
    "b_init = 785.1811367994083\n",
    "w_init = np.array([0.39133535, 18.75376741, -53.36032453, -26.42131618])\n",
    "\n",
    "def compute_gradient(x, y, w, b):\n",
    "    m, n = x.shape\n",
    "    dj_dw = np.zeros(n)\n",
    "    dj_db = 0\n",
    "    \n",
    "    for i in range(m):\n",
    "        error = predict_one(x[i], w, b) - y[i]\n",
    "        for j in range(n):\n",
    "            # print(f\"x [{i}, {j}] :{x[i,j]}\")\n",
    "            dj_dw[j] += error * x[i, j]\n",
    "        dj_db += error\n",
    "    \n",
    "    dj_dw = dj_dw / m\n",
    "    dj_db = dj_db / m\n",
    "    \n",
    "    # print(\"dj_dw:\", dj_dw)\n",
    "    # print(\"dj_db:\", dj_db)\n",
    "    \n",
    "    return dj_dw, dj_db\n",
    "\n",
    "dj_dw, dj_db = compute_gradient(x_train, y_train, w_init, b_init)\n",
    "print(dj_dw, dj_db)"
   ]
  },
  {
   "cell_type": "code",
   "execution_count": 117,
   "id": "c34c9665-8c4c-4db8-943b-d90c0de0fdd1",
   "metadata": {},
   "outputs": [
    {
     "name": "stdout",
     "output_type": "stream",
     "text": [
      "Updated weights: [  0.39133535  18.75376741 -53.36032453 -26.42131618]\n",
      "Updated bias: 785.1811367994083\n",
      "Predictions : [460. 232. 178.]\n",
      "Actual Results :  [460 232 178]\n"
     ]
    }
   ],
   "source": [
    "def gradient_descent(x, y, w, b, alpha, num_iters):\n",
    "    for i in range(num_iters):\n",
    "        dj_dw, dj_db = compute_gradient(x, y, w, b)\n",
    "        \n",
    "        w = w - alpha * dj_dw\n",
    "        b = b - alpha * dj_db\n",
    "        \n",
    "        # if i % 100 == 0:  # Print every 100 iterations for monitoring\n",
    "        #     print(f\"Iteration {i}: Cost = {np.sum((predict(x, w, b) - y) ** 2) / (2 * len(y))}\")\n",
    "    \n",
    "    return w, b\n",
    "\n",
    "# Example usage\n",
    "# alpha = 5.0e-7 # Learning rate\n",
    "alpha = 0.000000001\n",
    "num_iters = 10000  # Number of iterations\n",
    "\n",
    "w_final, b_final = gradient_descent(x_train, y_train, w_init, b_init, alpha, num_iters)\n",
    "print(\"Updated weights:\", w_final)\n",
    "print(\"Updated bias:\", b_final)\n",
    "print(\"Predictions :\", np.round(predict(x_train,w_final,b_final)))\n",
    "print(\"Actual Results : \", y_train)"
   ]
  },
  {
   "cell_type": "code",
   "execution_count": 88,
   "id": "8568066b-c022-4c42-835a-e7fb606cae16",
   "metadata": {},
   "outputs": [
    {
     "name": "stdout",
     "output_type": "stream",
     "text": [
      "Weights:  [  0.39133535  18.75376741 -53.36032453 -26.42131618]\n",
      "Bias :  785.1811367994083\n"
     ]
    }
   ],
   "source": [
    "from sklearn.linear_model import LogisticRegression,LinearRegression\n",
    "\n",
    "model = LinearRegression()\n",
    "model.fit(x_train,y_train)\n",
    "weights = model.coef_\n",
    "intercept = model.intercept_\n",
    "print(\"Weights: \",weights)\n",
    "print(\"Bias : \",intercept)\n"
   ]
  },
  {
   "cell_type": "code",
   "execution_count": null,
   "id": "a31b9794-a84a-4bde-91bd-0b35dee0cd30",
   "metadata": {},
   "outputs": [],
   "source": []
  }
 ],
 "metadata": {
  "kernelspec": {
   "display_name": "Python 3 (ipykernel)",
   "language": "python",
   "name": "python3"
  },
  "language_info": {
   "codemirror_mode": {
    "name": "ipython",
    "version": 3
   },
   "file_extension": ".py",
   "mimetype": "text/x-python",
   "name": "python",
   "nbconvert_exporter": "python",
   "pygments_lexer": "ipython3",
   "version": "3.12.4"
  }
 },
 "nbformat": 4,
 "nbformat_minor": 5
}
